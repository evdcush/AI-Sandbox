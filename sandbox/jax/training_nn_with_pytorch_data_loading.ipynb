{
 "cells": [
  {
   "cell_type": "markdown",
   "id": "9ca961b5",
   "metadata": {},
   "source": [
    "# Training a Simple Neural Network with PyTorch Data Loading\n",
    "Reference doc: https://jax.readthedocs.io/en/latest/notebooks/Neural_Network_and_Data_Loading.html"
   ]
  },
  {
   "cell_type": "code",
   "execution_count": 3,
   "id": "50d4b26a",
   "metadata": {},
   "outputs": [],
   "source": [
    "import time\n",
    "\n",
    "import numpy as np\n",
    "from torch import utils\n",
    "from torchvision.datasets import MNIST\n",
    "\n",
    "import jax.numpy as jnp\n",
    "from jax import grad, jit, vmap\n",
    "from jax import random\n",
    "from jax.scipy.special import logsumexp"
   ]
  },
  {
   "cell_type": "markdown",
   "id": "32445841",
   "metadata": {},
   "source": [
    "### Hyperparameters"
   ]
  },
  {
   "cell_type": "code",
   "execution_count": null,
   "id": "5ecba30c",
   "metadata": {},
   "outputs": [],
   "source": [
    "def random_layer_params(m, n, key, scale=1e-2):\n",
    "    \"\"\" Generate randomly initialized weights & biases. \"\"\"\n",
    "    w_key, b_key = random.split(key)\n",
    "    w = scale * random.normal(w_key, (n, m))\n",
    "    b = scale * random.normal(b_key, (n,))\n",
    "    return w, b\n",
    "\n",
    "def init_network_params(sizes, key):\n",
    "    \"\"\" Init all layers for a fully-connected nn with sizes. \"\"\"\n",
    "    keys = random.split(key, len(sizes))\n",
    "    layer_args = zip(sizes[:-1], sizes[1:], keys)\n",
    "    return [random_layer_params(m, n, k"
   ]
  }
 ],
 "metadata": {
  "kernelspec": {
   "display_name": "Python 3 (ipykernel)",
   "language": "python",
   "name": "python3"
  },
  "language_info": {
   "codemirror_mode": {
    "name": "ipython",
    "version": 3
   },
   "file_extension": ".py",
   "mimetype": "text/x-python",
   "name": "python",
   "nbconvert_exporter": "python",
   "pygments_lexer": "ipython3",
   "version": "3.9.7"
  }
 },
 "nbformat": 4,
 "nbformat_minor": 5
}
