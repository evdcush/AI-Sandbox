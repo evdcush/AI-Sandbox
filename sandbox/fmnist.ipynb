{
 "cells": [
  {
   "cell_type": "code",
   "execution_count": null,
   "id": "informative-wellington",
   "metadata": {},
   "outputs": [],
   "source": []
  },
  {
   "cell_type": "code",
   "execution_count": 15,
   "id": "consolidated-waters",
   "metadata": {},
   "outputs": [],
   "source": [
    "import matplotlib.pyplot as plt\n",
    "%config InlineBackend.figure_format = 'retina'\n",
    "\n",
    "import ipywidgets as widgets\n",
    "from IPython.display import display, clear_output\n",
    "\n",
    "import torch\n",
    "from torch import nn\n",
    "import torch.nn.functional as F\n",
    "import torchvision\n",
    "from torchvision import io, ops\n",
    "import torchvision.transforms as T"
   ]
  },
  {
   "cell_type": "code",
   "execution_count": 6,
   "id": "boxed-lawrence",
   "metadata": {},
   "outputs": [],
   "source": [
    "##  DATA  ##\n",
    "transforms = T.Compose([\n",
    "    T.ToTensor(),\n",
    "])\n",
    "fmnist_data = torchvision.datasets.FashionMNIST('/home/evan/.Data',\n",
    "                                                download=True,\n",
    "                                                transform=transforms,)\n",
    "\n",
    "data_loader = torch.utils.data.DataLoader(fmnist_data,\n",
    "                                          batch_size=8,\n",
    "                                          shuffle=True)"
   ]
  },
  {
   "cell_type": "code",
   "execution_count": null,
   "id": "front-synthesis",
   "metadata": {},
   "outputs": [],
   "source": [
    "##  NETWORK  ##\n",
    "class Net(nn.Module):\n",
    "    def __init__(self, l1=120):\n",
    "        super().__init__()\n",
    "        self.conv"
   ]
  },
  {
   "cell_type": "code",
   "execution_count": null,
   "id": "possible-pregnancy",
   "metadata": {},
   "outputs": [],
   "source": []
  }
 ],
 "metadata": {
  "kernelspec": {
   "display_name": "Python 3",
   "language": "python",
   "name": "python3"
  },
  "language_info": {
   "codemirror_mode": {
    "name": "ipython",
    "version": 3
   },
   "file_extension": ".py",
   "mimetype": "text/x-python",
   "name": "python",
   "nbconvert_exporter": "python",
   "pygments_lexer": "ipython3",
   "version": "3.8.8"
  },
  "toc": {
   "base_numbering": 1,
   "nav_menu": {},
   "number_sections": true,
   "sideBar": true,
   "skip_h1_title": false,
   "title_cell": "Table of Contents",
   "title_sidebar": "Contents",
   "toc_cell": false,
   "toc_position": {},
   "toc_section_display": true,
   "toc_window_display": false
  }
 },
 "nbformat": 4,
 "nbformat_minor": 5
}
