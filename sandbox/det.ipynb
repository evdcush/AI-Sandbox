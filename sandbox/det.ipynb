{
 "cells": [
  {
   "cell_type": "code",
   "execution_count": 1,
   "metadata": {},
   "outputs": [],
   "source": [
    "%matplotlib inline\n",
    "import os\n",
    "import sys\n",
    "import json\n",
    "from glob import glob\n",
    "\n",
    "import numpy as np\n",
    "import matplotlib.pyplot as plt\n",
    "\n",
    "import torch\n",
    "from torch import nn\n",
    "import torch.nn.functional as F\n",
    "import torchvision.transforms as T"
   ]
  },
  {
   "cell_type": "code",
   "execution_count": 11,
   "metadata": {},
   "outputs": [],
   "source": [
    "###   DATA   ###\n",
    "\n",
    "# Pathing\n",
    "dpath = os.environ['HOME'] + '/.Data/COCO'\n",
    "anno_fpath = dpath + '/annotations/instances_train2017.json' \n",
    "img_dpath  = dpath + '/train2017'\n",
    "img_fpaths = glob(img_dpath + '/*.jpg')  # N: 118,287\n",
    "img_fpath = img_dpath + '/000000{}.jpg'\n",
    "\n",
    "\"\"\"\n",
    ">>> annotations[0]\n",
    "{'segmentation': [[239.97,\n",
    "   260.24,\n",
    "   222.04,\n",
    "   270.49,\n",
    "   199.84,\n",
    "   253.41,\n",
    "   213.5,\n",
    "   227.79,\n",
    "   259.62,\n",
    "   200.46,\n",
    "   274.13,\n",
    "   202.17,\n",
    "   277.55,\n",
    "   210.71,\n",
    "   249.37,\n",
    "   253.41,\n",
    "   237.41,\n",
    "   264.51,\n",
    "   242.54,\n",
    "   261.95,\n",
    "   228.87,\n",
    "   271.34]],\n",
    " 'area': 2765.1486500000005,\n",
    " 'iscrowd': 0,\n",
    " 'image_id': 558840, # <----- '000000558840.jpg'\n",
    " 'bbox': [199.84, 200.46, 77.71, 70.88],\n",
    " 'category_id': 58,\n",
    " 'id': 156}\n",
    "\n",
    "# CATEGORIES: list[dict]\n",
    "#   {'supercategory': 'indoor', 'id': 85, 'name': 'clock'}\n",
    "\n",
    "* You want a map-style dataset\n",
    "\"\"\"\n",
    "noprint = True\n"
   ]
  },
  {
   "cell_type": "code",
   "execution_count": null,
   "metadata": {},
   "outputs": [],
   "source": [
    "###  LOAD DATA   ###\n",
    "\n",
    "# Load\n",
    "with open(anno_fpath) as jfile:\n",
    "    instances = json.load(jfile)\n",
    "\n",
    "annotations = instances['annotations']\n",
    "categories  = instances['categories']\n",
    "classes = {cat['id']: cat['name'] for cat in categories}"
   ]
  }
 ],
 "metadata": {
  "kernelspec": {
   "display_name": "Python 3",
   "language": "python",
   "name": "python3"
  },
  "language_info": {
   "codemirror_mode": {
    "name": "ipython",
    "version": 3
   },
   "file_extension": ".py",
   "mimetype": "text/x-python",
   "name": "python",
   "nbconvert_exporter": "python",
   "pygments_lexer": "ipython3",
   "version": "3.8.6"
  }
 },
 "nbformat": 4,
 "nbformat_minor": 4
}
