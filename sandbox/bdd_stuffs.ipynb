{
 "cells": [
  {
   "cell_type": "code",
   "execution_count": 3,
   "id": "informative-length",
   "metadata": {},
   "outputs": [],
   "source": [
    "from glob import glob\n",
    "import json\n",
    "import math\n",
    "import os\n",
    "\n",
    "from PIL import Image\n",
    "import requests\n",
    "import matplotlib.pyplot as plt\n",
    "%config InlineBackend.figure_format = 'retina'\n",
    "\n",
    "import ipywidgets as widgets\n",
    "from IPython.display import display, clear_output\n",
    "\n",
    "import torch\n",
    "from torch import nn\n",
    "from torchvision.models import resnet50\n",
    "import torchvision.transforms as T\n",
    "torch.set_grad_enabled(False);"
   ]
  },
  {
   "cell_type": "markdown",
   "id": "permanent-processor",
   "metadata": {},
   "source": [
    "## Data"
   ]
  },
  {
   "cell_type": "code",
   "execution_count": 6,
   "id": "tropical-lithuania",
   "metadata": {},
   "outputs": [],
   "source": [
    "# Pathing\n",
    "# =======\n",
    "BDD_DIR = os.environ['HOME'] + '/.Data/BDD/bdd100k'\n",
    "DET_LABELS_DIR = BDD_DIR + '/labels/detection20'\n",
    "\n",
    "\n",
    "# Files\n",
    "# =====\n",
    "DET_LABELS_TRAIN = DET_LABELS_DIR + '/det_v2_train_release.json'\n",
    "DET_LABELS_VAL   = DET_LABELS_DIR + '/det_v2_val_release.json'"
   ]
  },
  {
   "cell_type": "code",
   "execution_count": 7,
   "id": "matched-newton",
   "metadata": {},
   "outputs": [],
   "source": [
    "def read_json(path):\n",
    "    with open(path) as jfile:\n",
    "        return json.load(jfile)\n",
    "\n",
    "labels_train = read_json(DET_LABELS_TRAIN)\n",
    "labels_val   = read_json(DET_LABELS_VAL)"
   ]
  },
  {
   "cell_type": "code",
   "execution_count": 10,
   "id": "municipal-sunglasses",
   "metadata": {},
   "outputs": [
    {
     "name": "stdout",
     "output_type": "stream",
     "text": [
      "69863 10000\n"
     ]
    }
   ],
   "source": [
    "print(f\"{len(labels_train)} {len(labels_val)}\")"
   ]
  },
  {
   "cell_type": "code",
   "execution_count": 8,
   "id": "monthly-stewart",
   "metadata": {},
   "outputs": [
    {
     "data": {
      "text/plain": [
       "{'videoName': '0000f77c-6257be58',\n",
       " 'name': '0000f77c-6257be58.jpg',\n",
       " 'index': 0,\n",
       " 'timestamp': 10000,\n",
       " 'labels': [{'category': 'traffic light',\n",
       "   'poly2d': None,\n",
       "   'box3d': None,\n",
       "   'box2d': {'x2': 1156.978645,\n",
       "    'y1': 133.184488,\n",
       "    'x1': 1125.902264,\n",
       "    'y2': 210.875445},\n",
       "   'manualShape': True,\n",
       "   'attributes': {'occluded': False,\n",
       "    'truncated': False,\n",
       "    'trafficLightColor': [1, 'G']},\n",
       "   'id': 0},\n",
       "  {'category': 'traffic light',\n",
       "   'poly2d': None,\n",
       "   'box3d': None,\n",
       "   'box2d': {'x2': 1191.50796,\n",
       "    'y1': 136.637417,\n",
       "    'x1': 1156.978645,\n",
       "    'y2': 210.875443},\n",
       "   'manualShape': True,\n",
       "   'attributes': {'occluded': False,\n",
       "    'truncated': False,\n",
       "    'trafficLightColor': [1, 'G']},\n",
       "   'id': 1},\n",
       "  {'category': 'traffic sign',\n",
       "   'poly2d': None,\n",
       "   'box3d': None,\n",
       "   'box2d': {'x2': 1170.79037,\n",
       "    'y1': 211.122087,\n",
       "    'x1': 1105.66915985699,\n",
       "    'y2': 233.566141},\n",
       "   'manualShape': True,\n",
       "   'attributes': {'occluded': False,\n",
       "    'truncated': False,\n",
       "    'trafficLightColor': [0, 'NA']},\n",
       "   'id': 2},\n",
       "  {'category': 'traffic sign',\n",
       "   'poly2d': None,\n",
       "   'box3d': None,\n",
       "   'box2d': {'x2': 100.381647, 'y1': 0.246631, 'x1': 0, 'y2': 122.825696},\n",
       "   'manualShape': True,\n",
       "   'attributes': {'occluded': False,\n",
       "    'truncated': True,\n",
       "    'trafficLightColor': [0, 'NA']},\n",
       "   'id': 3},\n",
       "  {'category': 'car',\n",
       "   'poly2d': None,\n",
       "   'box3d': None,\n",
       "   'box2d': {'x2': 357.805838,\n",
       "    'y1': 254.530367,\n",
       "    'x1': 49.44476737704903,\n",
       "    'y2': 487.906215},\n",
       "   'manualShape': True,\n",
       "   'attributes': {'occluded': False,\n",
       "    'truncated': False,\n",
       "    'trafficLightColor': [0, 'NA']},\n",
       "   'id': 4},\n",
       "  {'category': 'car',\n",
       "   'poly2d': None,\n",
       "   'box3d': None,\n",
       "   'box2d': {'x2': 908.367588,\n",
       "    'y1': 221.727518,\n",
       "    'x1': 507.82755,\n",
       "    'y2': 441.0052451528153},\n",
       "   'manualShape': True,\n",
       "   'attributes': {'occluded': False,\n",
       "    'truncated': False,\n",
       "    'trafficLightColor': [0, 'NA']},\n",
       "   'id': 5},\n",
       "  {'category': 'traffic sign',\n",
       "   'poly2d': None,\n",
       "   'box3d': None,\n",
       "   'box2d': {'x2': 102.417429,\n",
       "    'y1': 0.809282,\n",
       "    'x1': 0.156955,\n",
       "    'y2': 133.411856},\n",
       "   'manualShape': True,\n",
       "   'attributes': {'occluded': False,\n",
       "    'truncated': True,\n",
       "    'trafficLightColor': [0, 'NA']},\n",
       "   'id': 6}],\n",
       " 'attributes': {'weather': 'clear',\n",
       "  'timeofday': 'daytime',\n",
       "  'scene': 'city street'}}"
      ]
     },
     "execution_count": 8,
     "metadata": {},
     "output_type": "execute_result"
    }
   ],
   "source": [
    "labels_train[0]"
   ]
  },
  {
   "cell_type": "code",
   "execution_count": null,
   "id": "attempted-prisoner",
   "metadata": {},
   "outputs": [],
   "source": []
  }
 ],
 "metadata": {
  "kernelspec": {
   "display_name": "Python 3",
   "language": "python",
   "name": "python3"
  },
  "language_info": {
   "codemirror_mode": {
    "name": "ipython",
    "version": 3
   },
   "file_extension": ".py",
   "mimetype": "text/x-python",
   "name": "python",
   "nbconvert_exporter": "python",
   "pygments_lexer": "ipython3",
   "version": "3.8.8"
  },
  "toc": {
   "base_numbering": 1,
   "nav_menu": {},
   "number_sections": true,
   "sideBar": true,
   "skip_h1_title": false,
   "title_cell": "Table of Contents",
   "title_sidebar": "Contents",
   "toc_cell": false,
   "toc_position": {},
   "toc_section_display": true,
   "toc_window_display": false
  }
 },
 "nbformat": 4,
 "nbformat_minor": 5
}
