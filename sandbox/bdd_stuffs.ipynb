{
 "cells": [
  {
   "cell_type": "markdown",
   "id": "hydraulic-contest",
   "metadata": {},
   "source": [
    "# TODO\n",
    "- Dataset class?\n",
    "- Dataloader\n",
    "- network\n",
    "- train\n",
    "- val\n",
    "- visualizer"
   ]
  },
  {
   "cell_type": "code",
   "execution_count": 1,
   "id": "loving-activation",
   "metadata": {},
   "outputs": [],
   "source": [
    "from glob import glob\n",
    "import json\n",
    "import math\n",
    "import os\n",
    "\n",
    "from PIL import Image\n",
    "import requests\n",
    "import matplotlib.pyplot as plt\n",
    "%config InlineBackend.figure_format = 'retina'\n",
    "\n",
    "import ipywidgets as widgets\n",
    "from IPython.display import display, clear_output\n",
    "\n",
    "import torch\n",
    "from torch import nn\n",
    "from torchvision import io\n",
    "import torchvision.transforms as T\n",
    "torch.set_grad_enabled(False);"
   ]
  },
  {
   "cell_type": "markdown",
   "id": "supposed-pension",
   "metadata": {},
   "source": [
    "## Data"
   ]
  },
  {
   "cell_type": "code",
   "execution_count": 2,
   "id": "completed-electricity",
   "metadata": {},
   "outputs": [],
   "source": [
    "# Pathing\n",
    "# =======\n",
    "BDD_DIR = os.environ['HOME'] + '/.Data/BDD/bdd100k'\n",
    "IMAGE_DIR = BDD_DIR + '/images/100k'\n",
    "TRAIN_IMAGE_DIR = IMAGE_DIR + '/train'\n",
    "VAL_IMAGE_DIR   = IMAGE_DIR + '/val'\n",
    "DET_LABELS_DIR = BDD_DIR + '/labels/detection20'\n",
    "\n",
    "\n",
    "# Files\n",
    "# =====\n",
    "DET_LABELS_TRAIN = DET_LABELS_DIR + '/det_v2_train_release.json'\n",
    "DET_LABELS_VAL   = DET_LABELS_DIR + '/det_v2_val_release.json'"
   ]
  },
  {
   "cell_type": "code",
   "execution_count": 3,
   "id": "automated-exclusion",
   "metadata": {},
   "outputs": [],
   "source": [
    "def read_json(path):\n",
    "    with open(path) as jfile:\n",
    "        return json.load(jfile)\n",
    "\n",
    "labels_train = read_json(DET_LABELS_TRAIN)\n",
    "labels_val   = read_json(DET_LABELS_VAL)"
   ]
  },
  {
   "cell_type": "code",
   "execution_count": 4,
   "id": "conscious-asset",
   "metadata": {},
   "outputs": [
    {
     "name": "stdout",
     "output_type": "stream",
     "text": [
      "69863 10000\n"
     ]
    }
   ],
   "source": [
    "print(f\"{len(labels_train)} {len(labels_val)}\")"
   ]
  },
  {
   "cell_type": "code",
   "execution_count": 5,
   "id": "proper-working",
   "metadata": {},
   "outputs": [
    {
     "data": {
      "text/plain": [
       "{'videoName': '0000f77c-6257be58',\n",
       " 'name': '0000f77c-6257be58.jpg',\n",
       " 'index': 0,\n",
       " 'timestamp': 10000,\n",
       " 'labels': [{'category': 'traffic light',\n",
       "   'poly2d': None,\n",
       "   'box3d': None,\n",
       "   'box2d': {'x2': 1156.978645,\n",
       "    'y1': 133.184488,\n",
       "    'x1': 1125.902264,\n",
       "    'y2': 210.875445},\n",
       "   'manualShape': True,\n",
       "   'attributes': {'occluded': False,\n",
       "    'truncated': False,\n",
       "    'trafficLightColor': [1, 'G']},\n",
       "   'id': 0},\n",
       "  {'category': 'traffic light',\n",
       "   'poly2d': None,\n",
       "   'box3d': None,\n",
       "   'box2d': {'x2': 1191.50796,\n",
       "    'y1': 136.637417,\n",
       "    'x1': 1156.978645,\n",
       "    'y2': 210.875443},\n",
       "   'manualShape': True,\n",
       "   'attributes': {'occluded': False,\n",
       "    'truncated': False,\n",
       "    'trafficLightColor': [1, 'G']},\n",
       "   'id': 1},\n",
       "  {'category': 'traffic sign',\n",
       "   'poly2d': None,\n",
       "   'box3d': None,\n",
       "   'box2d': {'x2': 1170.79037,\n",
       "    'y1': 211.122087,\n",
       "    'x1': 1105.66915985699,\n",
       "    'y2': 233.566141},\n",
       "   'manualShape': True,\n",
       "   'attributes': {'occluded': False,\n",
       "    'truncated': False,\n",
       "    'trafficLightColor': [0, 'NA']},\n",
       "   'id': 2},\n",
       "  {'category': 'traffic sign',\n",
       "   'poly2d': None,\n",
       "   'box3d': None,\n",
       "   'box2d': {'x2': 100.381647, 'y1': 0.246631, 'x1': 0, 'y2': 122.825696},\n",
       "   'manualShape': True,\n",
       "   'attributes': {'occluded': False,\n",
       "    'truncated': True,\n",
       "    'trafficLightColor': [0, 'NA']},\n",
       "   'id': 3},\n",
       "  {'category': 'car',\n",
       "   'poly2d': None,\n",
       "   'box3d': None,\n",
       "   'box2d': {'x2': 357.805838,\n",
       "    'y1': 254.530367,\n",
       "    'x1': 49.44476737704903,\n",
       "    'y2': 487.906215},\n",
       "   'manualShape': True,\n",
       "   'attributes': {'occluded': False,\n",
       "    'truncated': False,\n",
       "    'trafficLightColor': [0, 'NA']},\n",
       "   'id': 4},\n",
       "  {'category': 'car',\n",
       "   'poly2d': None,\n",
       "   'box3d': None,\n",
       "   'box2d': {'x2': 908.367588,\n",
       "    'y1': 221.727518,\n",
       "    'x1': 507.82755,\n",
       "    'y2': 441.0052451528153},\n",
       "   'manualShape': True,\n",
       "   'attributes': {'occluded': False,\n",
       "    'truncated': False,\n",
       "    'trafficLightColor': [0, 'NA']},\n",
       "   'id': 5},\n",
       "  {'category': 'traffic sign',\n",
       "   'poly2d': None,\n",
       "   'box3d': None,\n",
       "   'box2d': {'x2': 102.417429,\n",
       "    'y1': 0.809282,\n",
       "    'x1': 0.156955,\n",
       "    'y2': 133.411856},\n",
       "   'manualShape': True,\n",
       "   'attributes': {'occluded': False,\n",
       "    'truncated': True,\n",
       "    'trafficLightColor': [0, 'NA']},\n",
       "   'id': 6}],\n",
       " 'attributes': {'weather': 'clear',\n",
       "  'timeofday': 'daytime',\n",
       "  'scene': 'city street'}}"
      ]
     },
     "execution_count": 5,
     "metadata": {},
     "output_type": "execute_result"
    }
   ],
   "source": [
    "labels_train[0]"
   ]
  },
  {
   "cell_type": "code",
   "execution_count": 6,
   "id": "assured-owner",
   "metadata": {},
   "outputs": [
    {
     "data": {
      "text/plain": [
       "69863"
      ]
     },
     "execution_count": 6,
     "metadata": {},
     "output_type": "execute_result"
    }
   ],
   "source": [
    "len(labels_train)"
   ]
  },
  {
   "cell_type": "code",
   "execution_count": 7,
   "id": "coated-ireland",
   "metadata": {},
   "outputs": [],
   "source": [
    "#TRAIN_IMAGE_DIR = IMAGE_DIR + '/train'\n",
    "#VAL_IMAGE_DIR   = IMAGE_DIR + '/val'\n",
    "\n",
    "images_train = sorted(glob(TRAIN_IMAGE_DIR + '/*.jpg'))\n",
    "images_val   = sorted(glob(VAL_IMAGE_DIR + '/*.jpg'))"
   ]
  },
  {
   "cell_type": "code",
   "execution_count": 8,
   "id": "insured-hamburg",
   "metadata": {},
   "outputs": [
    {
     "data": {
      "text/plain": [
       "70000"
      ]
     },
     "execution_count": 8,
     "metadata": {},
     "output_type": "execute_result"
    }
   ],
   "source": [
    "len(images_train)"
   ]
  },
  {
   "cell_type": "code",
   "execution_count": 9,
   "id": "foster-termination",
   "metadata": {},
   "outputs": [],
   "source": [
    "foo = io.read_image(images_train[0])"
   ]
  },
  {
   "cell_type": "code",
   "execution_count": 10,
   "id": "medium-discretion",
   "metadata": {},
   "outputs": [
    {
     "data": {
      "text/plain": [
       "tensor([[[101,  46,  33,  ..., 152, 152, 152],\n",
       "         [ 96,  45,  37,  ..., 152, 152, 152],\n",
       "         [ 97,  49,  38,  ..., 152, 152, 152],\n",
       "         ...,\n",
       "         [ 26,  26,  26,  ...,  13,  13,  13],\n",
       "         [ 26,  26,  26,  ...,  13,  13,  13],\n",
       "         [ 26,  26,  26,  ...,  14,  14,  14]],\n",
       "\n",
       "        [[105,  50,  37,  ..., 199, 199, 199],\n",
       "         [100,  49,  41,  ..., 199, 199, 199],\n",
       "         [101,  53,  42,  ..., 199, 199, 199],\n",
       "         ...,\n",
       "         [ 29,  29,  29,  ...,  13,  13,  13],\n",
       "         [ 29,  29,  29,  ...,  13,  13,  13],\n",
       "         [ 29,  29,  29,  ...,  14,  14,  14]],\n",
       "\n",
       "        [[108,  53,  40,  ..., 229, 229, 229],\n",
       "         [103,  52,  44,  ..., 229, 229, 229],\n",
       "         [104,  56,  45,  ..., 229, 229, 229],\n",
       "         ...,\n",
       "         [ 36,  36,  36,  ...,  15,  15,  15],\n",
       "         [ 36,  36,  36,  ...,  15,  15,  15],\n",
       "         [ 36,  36,  36,  ...,  16,  16,  16]]], dtype=torch.uint8)"
      ]
     },
     "execution_count": 10,
     "metadata": {},
     "output_type": "execute_result"
    }
   ],
   "source": [
    "foo"
   ]
  },
  {
   "cell_type": "code",
   "execution_count": 11,
   "id": "golden-opportunity",
   "metadata": {},
   "outputs": [
    {
     "data": {
      "text/plain": [
       "torch.Size([3, 720, 1280])"
      ]
     },
     "execution_count": 11,
     "metadata": {},
     "output_type": "execute_result"
    }
   ],
   "source": [
    "foo.shape"
   ]
  },
  {
   "cell_type": "code",
   "execution_count": null,
   "id": "sealed-textbook",
   "metadata": {},
   "outputs": [],
   "source": []
  },
  {
   "cell_type": "markdown",
   "id": "still-domain",
   "metadata": {},
   "source": [
    "## DATALOADER\n",
    "https://pytorch.org/docs/stable/data.html"
   ]
  },
  {
   "cell_type": "code",
   "execution_count": null,
   "id": "magnetic-technique",
   "metadata": {},
   "outputs": [],
   "source": []
  }
 ],
 "metadata": {
  "kernelspec": {
   "display_name": "Python 3",
   "language": "python",
   "name": "python3"
  },
  "language_info": {
   "codemirror_mode": {
    "name": "ipython",
    "version": 3
   },
   "file_extension": ".py",
   "mimetype": "text/x-python",
   "name": "python",
   "nbconvert_exporter": "python",
   "pygments_lexer": "ipython3",
   "version": "3.8.8"
  },
  "toc": {
   "base_numbering": 1,
   "nav_menu": {},
   "number_sections": true,
   "sideBar": true,
   "skip_h1_title": false,
   "title_cell": "Table of Contents",
   "title_sidebar": "Contents",
   "toc_cell": false,
   "toc_position": {},
   "toc_section_display": true,
   "toc_window_display": false
  }
 },
 "nbformat": 4,
 "nbformat_minor": 5
}
