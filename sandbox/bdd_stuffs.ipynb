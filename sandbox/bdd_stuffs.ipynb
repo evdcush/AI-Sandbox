{
 "cells": [
  {
   "cell_type": "code",
   "execution_count": 3,
   "id": "devoted-township",
   "metadata": {},
   "outputs": [],
   "source": [
    "from glob import glob\n",
    "import json\n",
    "import math\n",
    "import os\n",
    "\n",
    "from PIL import Image\n",
    "import requests\n",
    "import matplotlib.pyplot as plt\n",
    "%config InlineBackend.figure_format = 'retina'\n",
    "\n",
    "import ipywidgets as widgets\n",
    "from IPython.display import display, clear_output\n",
    "\n",
    "import torch\n",
    "from torch import nn\n",
    "from torchvision.models import resnet50\n",
    "import torchvision.transforms as T\n",
    "torch.set_grad_enabled(False);"
   ]
  },
  {
   "cell_type": "markdown",
   "id": "mounted-preview",
   "metadata": {},
   "source": [
    "## Data"
   ]
  },
  {
   "cell_type": "code",
   "execution_count": 4,
   "id": "verbal-consumption",
   "metadata": {},
   "outputs": [],
   "source": [
    "# Pathing\n",
    "# =======\n",
    "BDD_DIR = os.environ['HOME'] + '/.Data/BDD/bdd100k'\n",
    "DET_LABELS_DIR = BDD_DIR + '/labels/detection20'\n",
    "\n",
    "\n",
    "# Files\n",
    "# =====\n",
    "DET_LABELS_TRAIN = DET_LABELS_DIR + '/det_v2_train_release.json'\n",
    "DET_LABELS_TRAIN = DET_LABELS_DIR + '/det_v2_val_release.json'"
   ]
  },
  {
   "cell_type": "code",
   "execution_count": null,
   "id": "unavailable-depth",
   "metadata": {},
   "outputs": [],
   "source": [
    "def read_json(path):\n",
    "    wi"
   ]
  }
 ],
 "metadata": {
  "kernelspec": {
   "display_name": "Python 3",
   "language": "python",
   "name": "python3"
  },
  "language_info": {
   "codemirror_mode": {
    "name": "ipython",
    "version": 3
   },
   "file_extension": ".py",
   "mimetype": "text/x-python",
   "name": "python",
   "nbconvert_exporter": "python",
   "pygments_lexer": "ipython3",
   "version": "3.8.8"
  },
  "toc": {
   "base_numbering": 1,
   "nav_menu": {},
   "number_sections": true,
   "sideBar": true,
   "skip_h1_title": false,
   "title_cell": "Table of Contents",
   "title_sidebar": "Contents",
   "toc_cell": false,
   "toc_position": {},
   "toc_section_display": true,
   "toc_window_display": false
  }
 },
 "nbformat": 4,
 "nbformat_minor": 5
}
