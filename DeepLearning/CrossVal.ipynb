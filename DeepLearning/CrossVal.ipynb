{
 "cells": [
  {
   "cell_type": "code",
   "execution_count": 1,
   "metadata": {},
   "outputs": [],
   "source": [
    "import time\n",
    "import sys\n",
    "import numpy as np\n",
    "import matplotlib.pyplot as plt\n",
    "from IPython import display\n",
    "\n",
    "import utils\n",
    "from utils import SessionStatus, classification_accuracy\n",
    "from network import NeuralNetwork"
   ]
  },
  {
   "cell_type": "code",
   "execution_count": 2,
   "metadata": {},
   "outputs": [
    {
     "name": "stdout",
     "output_type": "stream",
     "text": [
      "SESSION CONFIG\n",
      "===============================================================================\n",
      "  data_path: ./data/\n",
      "       seed: 12345\n",
      " model_name: {}_{}\n",
      "  name_suff: \n",
      " activation: <class 'functions.SoftPlus'>\n",
      "    dropout: False\n",
      "  optimizer: <class 'optimizers.SGD'>\n",
      "  objective: <class 'functions.SoftmaxCrossEntropy'>\n",
      "   channels: [4, 64, 3]\n",
      " learn_rate: 0.01\n",
      "  num_iters: 2000\n",
      " batch_size: 6\n",
      "    verbose: False\n",
      "\n",
      "\n"
     ]
    }
   ],
   "source": [
    "# args parser\n",
    "#------------------\n",
    "# config contains all model and session setup options\n",
    "P = utils.Parser()\n",
    "my_args = '-a softplus'\n",
    "config = P.parse_args_from_jupyter_notebook(my_args)\n",
    "P.print_args()"
   ]
  },
  {
   "cell_type": "code",
   "execution_count": 3,
   "metadata": {},
   "outputs": [],
   "source": [
    "#==============================================================================\n",
    "# Model, session config\n",
    "#==============================================================================\n",
    "# Model config\n",
    "#------------------\n",
    "channels   = config.channels\n",
    "activation = config.activation\n",
    "optimizer  = config.optimizer\n",
    "objective  = config.objective\n",
    "dropout    = config.dropout\n",
    "\n",
    "# Session config\n",
    "#------------------\n",
    "num_iters  = config.num_iters\n",
    "batch_size = config.batch_size\n",
    "verbose = config.verbose"
   ]
  },
  {
   "cell_type": "code",
   "execution_count": 4,
   "metadata": {},
   "outputs": [],
   "source": [
    "trainer = utils.Trainer(channels, optimizer, objective, activation, num_iters, batch_size)"
   ]
  },
  {
   "cell_type": "code",
   "execution_count": 5,
   "metadata": {},
   "outputs": [
    {
     "name": "stdout",
     "output_type": "stream",
     "text": [
      "#==============================================================================\n",
      "# Model Summary: \n",
      "\n",
      "NeuralNetwork\n",
      "  Layers: \n",
      "     1 : Dense (4, 64)\n",
      "          : SoftPlus\n",
      "     2 : Dense (64, 3)\n",
      "\n",
      "- OPTIMIZER : SGD\n",
      "- OBJECTIVE : SoftmaxCrossEntropy\n",
      "\n",
      "# Training results, 2000 iterations\n",
      "#------------------------------\n",
      "            Error  |  Accuracy\n",
      "* Average: 0.23019 | 0.94944\n",
      "*  Median: 0.21888 | 1.00000\n",
      "#------------------------------\n",
      "\n",
      "# Test results, 30 samples\n",
      "#------------------------------\n",
      "            Error  |  Accuracy\n",
      "* Average: 0.11398 | 0.96667\n",
      "*  Median: 0.04486 | 1.00000\n",
      "#------------------------------\n",
      "#==============================================================================\n"
     ]
    }
   ],
   "source": [
    "trainer()"
   ]
  },
  {
   "cell_type": "code",
   "execution_count": 6,
   "metadata": {},
   "outputs": [],
   "source": [
    "def get_results_by_act():\n",
    "    "
   ]
  },
  {
   "cell_type": "code",
   "execution_count": 7,
   "metadata": {},
   "outputs": [
    {
     "data": {
      "text/plain": [
       "array([[1.0850916 , 0.6666667 ],\n",
       "       [1.105326  , 0.33333334],\n",
       "       [1.1609786 , 0.        ],\n",
       "       ...,\n",
       "       [0.2731461 , 0.8333333 ],\n",
       "       [0.08262651, 1.        ],\n",
       "       [0.13079728, 1.        ]], dtype=float32)"
      ]
     },
     "execution_count": 7,
     "metadata": {},
     "output_type": "execute_result"
    }
   ],
   "source": [
    "trainer.session_status.train_history"
   ]
  },
  {
   "cell_type": "code",
   "execution_count": 13,
   "metadata": {},
   "outputs": [
    {
     "data": {
      "text/plain": [
       "'SoftPlus'"
      ]
     },
     "execution_count": 13,
     "metadata": {},
     "output_type": "execute_result"
    }
   ],
   "source": [
    "str(activation())"
   ]
  },
  {
   "cell_type": "code",
   "execution_count": null,
   "metadata": {},
   "outputs": [],
   "source": []
  }
 ],
 "metadata": {
  "kernelspec": {
   "display_name": "Python 3",
   "language": "python",
   "name": "python3"
  },
  "language_info": {
   "codemirror_mode": {
    "name": "ipython",
    "version": 3
   },
   "file_extension": ".py",
   "mimetype": "text/x-python",
   "name": "python",
   "nbconvert_exporter": "python",
   "pygments_lexer": "ipython3",
   "version": "3.6.6"
  }
 },
 "nbformat": 4,
 "nbformat_minor": 2
}
