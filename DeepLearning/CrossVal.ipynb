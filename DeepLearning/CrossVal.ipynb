{
 "cells": [
  {
   "cell_type": "code",
   "execution_count": 6,
   "metadata": {},
   "outputs": [],
   "source": [
    "import time\n",
    "import sys\n",
    "import numpy as np\n",
    "import matplotlib.pyplot as plt\n",
    "from IPython import display\n",
    "\n",
    "import utils\n",
    "from utils import SessionStatus, classification_accuracy\n",
    "from network import NeuralNetwork\n",
    "import functions as F\n",
    "import optimizers as Opt"
   ]
  },
  {
   "cell_type": "code",
   "execution_count": 7,
   "metadata": {},
   "outputs": [],
   "source": [
    "# args parser\n",
    "#------------------\n",
    "# config contains all model and session setup options\n",
    "#P = utils.Parser()\n",
    "#my_args = '-a softplus'\n",
    "#config = P.parse_args_from_jupyter_notebook()\n",
    "#P.print_args()"
   ]
  },
  {
   "cell_type": "code",
   "execution_count": 8,
   "metadata": {},
   "outputs": [
    {
     "data": {
      "text/plain": [
       "\" Now you have a CV trainer:\\n- Pick 4 random seeds all models train on\\n- Pick your K for K folds\\n- Pick vars you want to search for\\n  - Channels : A LOT HERE\\n    - depth\\n    - kernel sizes\\n  - activation?\\n\\nDefault maybe just 1000-2000 iters, SGD, sigmoid, Softmax CE\\n\\n- then run in double-for loop over:\\n  - RNG seeds\\n  - model parameter candidates\\n\\nSave all results, average out rng-seed dims,\\nplot, and evaluate what's next\\n\""
      ]
     },
     "execution_count": 8,
     "metadata": {},
     "output_type": "execute_result"
    }
   ],
   "source": [
    "''' Now you have a CV trainer:\n",
    "- Pick 4 random seeds all models train on\n",
    "- Pick your K for K folds\n",
    "- Pick vars you want to search for\n",
    "  - Channels : A LOT HERE\n",
    "    - depth\n",
    "    - kernel sizes\n",
    "  - activation?\n",
    "\n",
    "Default maybe just 1000-2000 iters, SGD, sigmoid, Softmax CE\n",
    "\n",
    "- then run in double-for loop over:\n",
    "  - RNG seeds\n",
    "  - model parameter candidates\n",
    "\n",
    "Save all results, average out rng-seed dims,\n",
    "plot, and evaluate what's next\n",
    "'''"
   ]
  },
  {
   "cell_type": "code",
   "execution_count": 9,
   "metadata": {},
   "outputs": [
    {
     "name": "stdout",
     "output_type": "stream",
     "text": [
      "[ 31  41  32 151  16  53  78 157  47 149 144 121  11 256  13 163  55 103\n",
      " 128 124   4  59 131  97   8  61  29 101  83  17 113 167 127 101 130  37\n",
      " 139   7  64  79 109  71  43  80  67 101  19  23  74  73 107  89 173 137]\n"
     ]
    }
   ],
   "source": [
    "import primesieve\n",
    "kernels = primesieve.n_primes(40)[3:]\n",
    "kernels.extend([2**i for i in range(2, 9)])\n",
    "kernels.extend(np.random.randint(50, 151, 10))\n",
    "kernels = np.random.permutation(kernels)\n"
   ]
  },
  {
   "cell_type": "code",
   "execution_count": 11,
   "metadata": {},
   "outputs": [
    {
     "data": {
      "text/plain": [
       "array([ 31,  41,  32, 151,  16,  53,  78, 157,  47, 149, 144, 121,  11,\n",
       "       256,  13, 163,  55, 103, 128, 124,   4,  59, 131,  97,   8,  61,\n",
       "        29, 101,  83,  17, 113, 167, 127, 101, 130,  37, 139,   7,  64,\n",
       "        79, 109,  71,  43,  80,  67, 101,  19,  23,  74,  73, 107,  89,\n",
       "       173, 137])"
      ]
     },
     "execution_count": 11,
     "metadata": {},
     "output_type": "execute_result"
    }
   ],
   "source": [
    "kernels"
   ]
  },
  {
   "cell_type": "code",
   "execution_count": 10,
   "metadata": {},
   "outputs": [],
   "source": [
    "#==============================================================================\n",
    "# Model constants\n",
    "#==============================================================================\n",
    "# Model config\n",
    "#------------------\n",
    "optimizer  = Opt.SGD\n",
    "objective  = F.SoftmaxCrossEntropy\n",
    "#dropout    = config.dropout\n",
    "\n",
    "# Dataset\n",
    "#-------------------\n",
    "X_train = np.load('X_train.ign.npy')"
   ]
  },
  {
   "cell_type": "code",
   "execution_count": null,
   "metadata": {},
   "outputs": [],
   "source": [
    "#==============================================================================\n",
    "# Model variables\n",
    "#==============================================================================\n",
    "#======= activation funcs\n",
    "activations = [F.Sigmoid, F.SeLU]\n",
    "#======= RNG seeds\n",
    "SEEDS = [3310, 99467, 27189, 77771]\n",
    "\n",
    "\n",
    "k_in  = 4\n",
    "k_out = 3\n",
    "#==== simple list of primes, powers of 2, and some rand ints to make up channels\n",
    "kernels = np.array([ 31,  41,  32, 151,  16,  53,  78, 157,  47, 149, 144, 121,  11,\n",
    "                     256,  13, 163,  55, 103, 128, 124,   4,  59, 131,  97,   8,  61,\n",
    "                      29, 101,  83,  17, 113, 167, 127, 101, 130,  37, 139,   7,  64,\n",
    "                      79, 109,  71,  43,  80,  67, 101,  19,  23,  74,  73, 107,  89,\n",
    "                      173, 137])"
   ]
  },
  {
   "cell_type": "code",
   "execution_count": null,
   "metadata": {},
   "outputs": [],
   "source": [
    "K = "
   ]
  },
  {
   "cell_type": "code",
   "execution_count": 4,
   "metadata": {},
   "outputs": [],
   "source": [
    "trainer = utils.Trainer(channels, optimizer, objective, activation, num_iters, batch_size)"
   ]
  },
  {
   "cell_type": "code",
   "execution_count": 5,
   "metadata": {},
   "outputs": [
    {
     "name": "stdout",
     "output_type": "stream",
     "text": [
      "#==============================================================================\n",
      "# Model Summary: \n",
      "\n",
      "NeuralNetwork\n",
      "  Layers: \n",
      "     1 : Dense (4, 64)\n",
      "          : Sigmoid\n",
      "     2 : Dense (64, 3)\n",
      "\n",
      "- OPTIMIZER : SGD\n",
      "- OBJECTIVE : SoftmaxCrossEntropy\n",
      "\n",
      "# Training results, 2000 iterations\n",
      "#------------------------------\n",
      "            Error  |  Accuracy\n",
      "* Average: 0.62794 | 0.83819\n",
      "*  Median: 0.62261 | 0.83333\n",
      "#------------------------------\n",
      "\n",
      "# Test results, 30 samples\n",
      "#------------------------------\n",
      "            Error  |  Accuracy\n",
      "* Average: 0.44890 | 0.93333\n",
      "*  Median: 0.49447 | 1.00000\n",
      "#------------------------------\n",
      "#==============================================================================\n"
     ]
    }
   ],
   "source": [
    "trainer()"
   ]
  },
  {
   "cell_type": "code",
   "execution_count": null,
   "metadata": {},
   "outputs": [],
   "source": []
  }
 ],
 "metadata": {
  "kernelspec": {
   "display_name": "Python 3",
   "language": "python",
   "name": "python3"
  },
  "language_info": {
   "codemirror_mode": {
    "name": "ipython",
    "version": 3
   },
   "file_extension": ".py",
   "mimetype": "text/x-python",
   "name": "python",
   "nbconvert_exporter": "python",
   "pygments_lexer": "ipython3",
   "version": "3.6.6"
  }
 },
 "nbformat": 4,
 "nbformat_minor": 2
}
