{
 "cells": [
  {
   "cell_type": "code",
   "execution_count": 1,
   "metadata": {},
   "outputs": [],
   "source": [
    "import time\n",
    "import sys\n",
    "import numpy as np\n",
    "import matplotlib.pyplot as plt\n",
    "from IPython import display\n",
    "\n",
    "import utils\n",
    "from utils import SessionStatus, classification_accuracy\n",
    "from network import NeuralNetwork"
   ]
  },
  {
   "cell_type": "code",
   "execution_count": 2,
   "metadata": {},
   "outputs": [
    {
     "name": "stdout",
     "output_type": "stream",
     "text": [
      "SESSION CONFIG\n",
      "===============================================================================\n",
      "  data_path: ./data/\n",
      "       seed: 12345\n",
      " model_name: {}_{}\n",
      "  name_suff: \n",
      " activation: <class 'functions.Sigmoid'>\n",
      "    dropout: False\n",
      "  optimizer: <class 'optimizers.SGD'>\n",
      "  objective: <class 'functions.SoftmaxCrossEntropy'>\n",
      "   channels: [4, 64, 3]\n",
      " learn_rate: 0.01\n",
      "  num_iters: 2000\n",
      " batch_size: 6\n",
      "    verbose: False\n",
      "\n",
      "\n"
     ]
    }
   ],
   "source": [
    "# args parser\n",
    "#------------------\n",
    "# config contains all model and session setup options\n",
    "P = utils.Parser()\n",
    "config = P.parse_args_from_jupyter_notebook()\n",
    "P.print_args()"
   ]
  },
  {
   "cell_type": "code",
   "execution_count": 11,
   "metadata": {},
   "outputs": [
    {
     "data": {
      "text/plain": [
       "12345"
      ]
     },
     "execution_count": 11,
     "metadata": {},
     "output_type": "execute_result"
    }
   ],
   "source": [
    "config['seed']"
   ]
  },
  {
   "cell_type": "code",
   "execution_count": 5,
   "metadata": {},
   "outputs": [],
   "source": [
    "myd = dict(config)"
   ]
  },
  {
   "cell_type": "code",
   "execution_count": 8,
   "metadata": {},
   "outputs": [
    {
     "data": {
      "text/plain": [
       "12345"
      ]
     },
     "execution_count": 8,
     "metadata": {},
     "output_type": "execute_result"
    }
   ],
   "source": [
    "myd['seed']"
   ]
  },
  {
   "cell_type": "code",
   "execution_count": 3,
   "metadata": {},
   "outputs": [
    {
     "name": "stdout",
     "output_type": "stream",
     "text": [
      "X_train.shape: (120, 5)\n",
      " X_test.shape: (30, 5)\n"
     ]
    }
   ],
   "source": [
    "# Load data\n",
    "#------------------\n",
    "iris_data = utils.IrisDataset()\n",
    "num_test_samples = iris_data.X_test.shape[0]\n",
    "\n",
    "print(f'X_train.shape: {iris_data.X_train.shape}\\n',\n",
    "      f'X_test.shape: {iris_data.X_test.shape}')"
   ]
  },
  {
   "cell_type": "code",
   "execution_count": 4,
   "metadata": {},
   "outputs": [],
   "source": [
    "\n",
    "\n",
    "#==============================================================================\n",
    "# Model, session config\n",
    "#==============================================================================\n",
    "# Model config\n",
    "#------------------\n",
    "channels   = config.channels\n",
    "activation = config.activation\n",
    "optimizer  = config.optimizer\n",
    "objective  = config.objective\n",
    "dropout    = config.dropout\n",
    "learning_rate = config.learn_rate # 0.01, omitted, opt defaults well configured\n",
    "\n",
    "# Session config\n",
    "#------------------\n",
    "num_iters  = config.num_iters\n",
    "batch_size = config.batch_size\n",
    "verbose = config.verbose"
   ]
  },
  {
   "cell_type": "code",
   "execution_count": 5,
   "metadata": {},
   "outputs": [
    {
     "data": {
      "text/plain": [
       "\"\\n    __slots__ = ('model', 'opt', 'obj', 'steps', 'batch_size', 'eval_steps',\\n                'verbose', 'rng_seed')\\n    def __init__(self, model, opt, obj,\\n                 steps=1000, batch_size=6,\\n                 eval_steps=30, verbose=False,\\n                 rng_seed=RNG_SEED_DATA):\""
      ]
     },
     "execution_count": 5,
     "metadata": {},
     "output_type": "execute_result"
    }
   ],
   "source": [
    "\"\"\" manages the training for a model\n",
    "Trainer accepts a model, along with an optimizer\n",
    "and objective function, and trains it for the\n",
    "specified number of steps.\n",
    "\"\"\"\n",
    "\n",
    "'''\n",
    "    __slots__ = ('model', 'opt', 'obj', 'steps', 'batch_size', 'eval_steps',\n",
    "                'verbose', 'rng_seed')\n",
    "    def __init__(self, model, opt, obj,\n",
    "                 steps=1000, batch_size=6,\n",
    "                 eval_steps=30, verbose=False,\n",
    "                 rng_seed=RNG_SEED_DATA):'''\n",
    "class Trainer:\n",
    "    "
   ]
  }
 ],
 "metadata": {
  "kernelspec": {
   "display_name": "Python 3",
   "language": "python",
   "name": "python3"
  },
  "language_info": {
   "codemirror_mode": {
    "name": "ipython",
    "version": 3
   },
   "file_extension": ".py",
   "mimetype": "text/x-python",
   "name": "python",
   "nbconvert_exporter": "python",
   "pygments_lexer": "ipython3",
   "version": "3.6.6"
  }
 },
 "nbformat": 4,
 "nbformat_minor": 2
}
