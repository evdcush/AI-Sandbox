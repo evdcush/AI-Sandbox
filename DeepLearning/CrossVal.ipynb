{
 "cells": [
  {
   "cell_type": "code",
   "execution_count": 1,
   "metadata": {},
   "outputs": [],
   "source": [
    "import time\n",
    "import sys\n",
    "import numpy as np\n",
    "import matplotlib.pyplot as plt\n",
    "from IPython import display\n",
    "\n",
    "import utils\n",
    "from utils import SessionStatus, classification_accuracy\n",
    "from network import NeuralNetwork"
   ]
  },
  {
   "cell_type": "code",
   "execution_count": 2,
   "metadata": {},
   "outputs": [],
   "source": [
    "P = utils.Parser()"
   ]
  },
  {
   "cell_type": "code",
   "execution_count": 3,
   "metadata": {},
   "outputs": [],
   "source": [
    "pargs = P.parse_args_from_jupyter_notebook()"
   ]
  },
  {
   "cell_type": "code",
   "execution_count": 4,
   "metadata": {},
   "outputs": [
    {
     "data": {
      "text/plain": [
       "{'data_path': './data/',\n",
       " 'seed': 12345,\n",
       " 'model_name': '{}_{}',\n",
       " 'name_suff': '',\n",
       " 'activation': functions.Sigmoid,\n",
       " 'dropout': False,\n",
       " 'optimizer': optimizers.SGD,\n",
       " 'objective': functions.SoftmaxCrossEntropy,\n",
       " 'channels': [4, 64, 3],\n",
       " 'learn_rate': 0.01,\n",
       " 'num_iters': 2000,\n",
       " 'batch_size': 6,\n",
       " 'verbose': False}"
      ]
     },
     "execution_count": 4,
     "metadata": {},
     "output_type": "execute_result"
    }
   ],
   "source": [
    "pargs"
   ]
  },
  {
   "cell_type": "code",
   "execution_count": 5,
   "metadata": {},
   "outputs": [
    {
     "name": "stdout",
     "output_type": "stream",
     "text": [
      "SESSION CONFIG\n",
      "===============================================================================\n",
      "  data_path: ./data/\n",
      "       seed: 12345\n",
      " model_name: {}_{}\n",
      "  name_suff: \n",
      " activation: <class 'functions.Sigmoid'>\n",
      "    dropout: False\n",
      "  optimizer: <class 'optimizers.SGD'>\n",
      "  objective: <class 'functions.SoftmaxCrossEntropy'>\n",
      "   channels: [4, 64, 3]\n",
      " learn_rate: 0.01\n",
      "  num_iters: 2000\n",
      " batch_size: 6\n",
      "    verbose: False\n",
      "\n",
      "\n"
     ]
    }
   ],
   "source": [
    "P.print_args()"
   ]
  },
  {
   "cell_type": "code",
   "execution_count": null,
   "metadata": {},
   "outputs": [],
   "source": []
  }
 ],
 "metadata": {
  "kernelspec": {
   "display_name": "Python 3",
   "language": "python",
   "name": "python3"
  },
  "language_info": {
   "codemirror_mode": {
    "name": "ipython",
    "version": 3
   },
   "file_extension": ".py",
   "mimetype": "text/x-python",
   "name": "python",
   "nbconvert_exporter": "python",
   "pygments_lexer": "ipython3",
   "version": "3.7.0"
  }
 },
 "nbformat": 4,
 "nbformat_minor": 2
}
